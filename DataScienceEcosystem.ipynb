{
 "cells": [
  {
   "cell_type": "markdown",
   "id": "299c5e78-1405-4267-b7ca-11716932fa59",
   "metadata": {},
   "source": [
    "# Data Science Tools and Ecosystem"
   ]
  },
  {
   "cell_type": "markdown",
   "id": "3a60df6d-af08-4e39-9d10-1356f08f30ee",
   "metadata": {},
   "source": [
    "In this notebook, Data Science Tools and Ecosystem are summarized."
   ]
  },
  {
   "cell_type": "markdown",
   "id": "c33326d3-ee4c-40c7-9f2f-000c05b76de9",
   "metadata": {},
   "source": [
    "Some of the popular languages that Data Scientists use are:"
   ]
  },
  {
   "cell_type": "markdown",
   "id": "ad5d8e0d-180e-4e26-be53-d80803b386f9",
   "metadata": {},
   "source": [
    "### Some of the popular languages that Data Scientists use are:"
   ]
  },
  {
   "cell_type": "markdown",
   "id": "a3232a60-cc53-4dbd-86af-3781744d7358",
   "metadata": {},
   "source": [
    "1. Python\n",
    "2. R\n",
    "3. SQL"
   ]
  },
  {
   "cell_type": "markdown",
   "id": "fbe379bf-09ea-43f1-a089-05f919f6c0f8",
   "metadata": {},
   "source": [
    "### Some of the commonly used libraries used by Data Scientists include:"
   ]
  },
  {
   "cell_type": "markdown",
   "id": "1e6b0c6f-9b38-4f28-91f4-e02cae3be611",
   "metadata": {},
   "source": [
    "* NumPy\n",
    "* Pandas\n",
    "* Matplotlib\n",
    "* Scikit-learn"
   ]
  },
  {
   "cell_type": "markdown",
   "id": "520ff5b9-5568-4366-bd3f-84d8eb1dd427",
   "metadata": {},
   "source": [
    "|Data Science Tools|\n",
    "|------------------|\n",
    "|Apache Spark|\n",
    "|TensorFlow|\n",
    "|Matplotlib|\n"
   ]
  },
  {
   "cell_type": "markdown",
   "id": "d52a5e8e-8054-4694-85b8-5c9a71f75299",
   "metadata": {},
   "source": [
    "### Below are a few examples of evaluating arithmetic expressions in Python"
   ]
  },
  {
   "cell_type": "code",
   "execution_count": 17,
   "id": "7c83fa8a-e822-4669-95da-75b5bc621ca6",
   "metadata": {},
   "outputs": [],
   "source": [
    "# This is a simple arithmetic expression to multiply then add integers"
   ]
  },
  {
   "cell_type": "code",
   "execution_count": 19,
   "id": "b31730dd-c115-4ce5-8948-ec0eff84bcd0",
   "metadata": {},
   "outputs": [
    {
     "data": {
      "text/plain": [
       "17"
      ]
     },
     "execution_count": 19,
     "metadata": {},
     "output_type": "execute_result"
    }
   ],
   "source": [
    "(3*4)+5"
   ]
  },
  {
   "cell_type": "code",
   "execution_count": 21,
   "id": "52e49b5c-d645-4917-838f-811b09025afa",
   "metadata": {},
   "outputs": [
    {
     "data": {
      "text/plain": [
       "3.3333333333333335"
      ]
     },
     "execution_count": 21,
     "metadata": {},
     "output_type": "execute_result"
    }
   ],
   "source": [
    "# This will convert 200 minutes to hours by dividing by 60\n",
    "200/60"
   ]
  },
  {
   "cell_type": "markdown",
   "id": "e5afd69a-a7ce-42c3-a396-cb799bd02e63",
   "metadata": {},
   "source": [
    "**Objectives:**\n",
    "* List popular languages for data science\n",
    "* List commonly used libraries used by Data Scientists\n",
    "* List Data Science Tools"
   ]
  },
  {
   "cell_type": "markdown",
   "id": "96252890-71b5-4732-a691-d96d5cc3ed3e",
   "metadata": {},
   "source": [
    "## Author\n",
    "Aryca Waller"
   ]
  },
  {
   "cell_type": "code",
   "execution_count": null,
   "id": "65ce4f45-2416-43f7-aaf3-9b1704ff6e95",
   "metadata": {},
   "outputs": [],
   "source": []
  }
 ],
 "metadata": {
  "kernelspec": {
   "display_name": "Python [conda env:Dev_Python]",
   "language": "python",
   "name": "conda-env-Dev_Python-py"
  },
  "language_info": {
   "codemirror_mode": {
    "name": "ipython",
    "version": 3
   },
   "file_extension": ".py",
   "mimetype": "text/x-python",
   "name": "python",
   "nbconvert_exporter": "python",
   "pygments_lexer": "ipython3",
   "version": "3.12.9"
  }
 },
 "nbformat": 4,
 "nbformat_minor": 5
}
